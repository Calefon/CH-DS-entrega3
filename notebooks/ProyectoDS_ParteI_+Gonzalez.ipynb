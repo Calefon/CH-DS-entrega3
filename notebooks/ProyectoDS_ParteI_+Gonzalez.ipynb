{
 "cells": [
  {
   "cell_type": "markdown",
   "metadata": {},
   "source": []
  },
  {
   "attachments": {},
   "cell_type": "markdown",
   "metadata": {},
   "source": [
    "## Introducción"
   ]
  },
  {
   "attachments": {},
   "cell_type": "markdown",
   "metadata": {},
   "source": [
    "### Dataset"
   ]
  },
  {
   "attachments": {},
   "cell_type": "markdown",
   "metadata": {},
   "source": [
    "Este dataset proporciona una vista comprensiva de estudiantes inscriptos en varios cursos de grado, en una institución de educación superior. Incluye datos demográficos, factores socioeconómicos, e información sobre desempeño académico que pueden ser usados para analizar los posibles predictores de deserción y éxito académco.\n",
    "\n",
    "Fuente: https://www.kaggle.com/datasets/thedevastator/higher-education-predictors-of-student-retention\n",
    "\n",
    "Fue utilizado como parte de un paper de investigación: https://www.mdpi.com/2306-5729/7/11/146"
   ]
  },
  {
   "attachments": {},
   "cell_type": "markdown",
   "metadata": {},
   "source": [
    "### Objetivos"
   ]
  },
  {
   "attachments": {},
   "cell_type": "markdown",
   "metadata": {},
   "source": [
    "El objetivo de análisis para el dataset, es determinar qué variables son relevantes en la deserción estudiantil, y predecir el éxito de los estudiantes."
   ]
  },
  {
   "attachments": {},
   "cell_type": "markdown",
   "metadata": {},
   "source": [
    "### Variables"
   ]
  },
  {
   "attachments": {},
   "cell_type": "markdown",
   "metadata": {},
   "source": [
    "Marital status - El estado civil del estudiante (Categorical)\n",
    "Application mode - El método de inscripción utilizado por el estudiante. (Categorical)\n",
    "Application order - El orden en el que estudiante se inscribió. (Numerical)\n",
    "Course - La carrera elegida por el estudiante. (Categorical)\n",
    "Daytime/evening attendance - Horario de cursada del estudiante. (Categorical)\n",
    "Previous qualification - Estudios previos del estudiante (Categorical)\n",
    "Nacionality - La Nacionalidad del estudiante (Categorical)\n",
    "Mother's qualification - Estudios de la madre del estudiante (Categorical)\n",
    "Father's qualification - Estudios del padre del estudiante (Categorical)\n",
    "Mother's occupation - Ocupación de la madre del estudiante (Categorical)\n",
    "Father's occupation - Ocupación del padre del estudiante (Categorical)\n",
    "Displaced - Si el estudiante es una persona desplazada (Categorical)\n",
    "Educational special needs - Si el estudiante tiene necesidades educativas especiales (Categorical)\n",
    "Debtor - Si el estudiante es deudor (Categorical)\n",
    "Tuition fees up to date - Si el estudiante tiene el pago de sus estudios al día (Categorical)\n",
    "Gender - El género del estudiante (Categorical)\n",
    "Scholarship holder - Si el estudiante posee una beca (Categorical)\n",
    "Age at enrollment - Edad del estudiante al momento de inscripción (Numerical)\n",
    "International - Si el estudiante es internacional (Categorical)\n",
    "Curricular units 1st sem (credited) - El número de unidades curriculares acreditadas por el estudiante en el primer semestre. (Numerical)\n",
    "Curricular units 1st sem (enrolled) - El número de unidades curriculares a las que se inscribió el estudiante en el primer semestre. (Numerical)\n",
    "Curricular units 1st sem (evaluations) - El número de unidades curriculares rendidas por el estudiante en el primer semestre. (Numerical)\n",
    "Curricular units 1st sem (approved) - El número de unidades curriculares aprobadas por el estudiante en el primer semestre. (Numerical)\n"
   ]
  }
 ],
 "metadata": {
  "language_info": {
   "name": "python"
  },
  "orig_nbformat": 4
 },
 "nbformat": 4,
 "nbformat_minor": 2
}
